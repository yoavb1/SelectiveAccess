{
 "cells": [
  {
   "cell_type": "markdown",
   "metadata": {},
   "source": [
    "# Simulation"
   ]
  },
  {
   "cell_type": "markdown",
   "metadata": {},
   "source": [
    "<b>Step 1:</b> Randomly sample event type - Signal (S\\Blue) or Noise (N\\Orange)<br>\n",
    "<b>Step 2:</b> Randomly sample human, system stimulus from the relevant distribution - stimulus ~N($\\frac{d}{2},1)$ if the event is Signal and ~N($-\\frac{d}{2},1)$ if the event is Noise<br>\n",
    "<b>Step 3:</b> Compute the probability to the stimulus value giving it's Signal\\Noise:\n",
    "$$P(Stimulus|Signal)=norm.pdf(stimulus, \\mu=\\frac{d}{2},\\sigma=1)$$\n",
    "$$P(Stimulus|Noise)=norm.pdf(stimulus, \\mu=-\\frac{d}{2}, \\sigma=1$$<br>\n",
    "\n",
    "<b>Step 4:</b> Compute the probability to Signal\\Noise giving the human stimulus:\n",
    "$$P(Signal|Stimulus_h)^{*}=\\frac{P(Stimulus_h|Signal)\\cdot{P(S)}}{P(Stimulus_h|Signal)\\cdot{P(S)} + P(Stimulus_h|Noise)\\cdot{P(N)}}$$\n",
    "$$P(Noise|Stimulus_h)=1 - P(Signal|Stimulus_h)$$\n",
    "\n",
    "<b>Step 4:</b> To compute the probability to signal, giving the human and system stimulus:\n",
    "\n",
    "$$P(Signal|Stimulus_{s},Stimulus_{h})=\\frac{P(Stimulus_s|Signal)\\cdot{*}}{P(Stimulus_s|Signal)\\cdot{*} + (1-*)\\cdot{P(Stimulus|Noise)}}$$\n",
    "\n",
    "<b>Step 5:</b> Compute the Exepected Value (EV) of the human giving the stimulus.<br>After seeing the stimulus the human has more information and we should use $P(Signal|Stimulus)$ instead of the prior probability to signal event $P_{s}$<br>\n",
    "\n",
    "<b>Step 6:</b> Compute EV with human and system togehther, also here, the human already has information about the event.<br>If the information is very clear ($P(Signal|Stimulus)$ is close to 0 or 1), the system can contribute little if any (depends on the system $d^{'})$.<br>However if the information is not helpfull ($P(Signal|Stimulus)$ is close the prior probability $P_{s}$), the human might choose to purchase additional information.<br>The decision whether to purchase the information depends on the quality of the additional information ($d^{'}$) and the cost to purchase it."
   ]
  },
  {
   "cell_type": "markdown",
   "metadata": {},
   "source": [
    "## Imports"
   ]
  },
  {
   "cell_type": "code",
   "execution_count": 1,
   "metadata": {},
   "outputs": [],
   "source": [
    "from IPython.display import display, clear_output\n",
    "import matplotlib.pyplot as plt\n",
    "import seaborn as sns\n",
    "from scipy.stats import norm\n",
    "import pandas as pd\n",
    "import numpy as np\n",
    "import scipy.stats\n",
    "import random\n",
    "import math\n",
    "\n",
    "pd.set_option('display.max_rows', 500)\n",
    "pd.set_option('display.max_columns', 500)"
   ]
  },
  {
   "cell_type": "markdown",
   "metadata": {},
   "source": [
    "## Simulation Parameters"
   ]
  },
  {
   "cell_type": "code",
   "execution_count": 2,
   "metadata": {},
   "outputs": [],
   "source": [
    "P_blue = 0.5\n",
    "d_h = 1.5\n",
    "d_s = 20\n",
    "d_s_low = .75\n",
    "d_s_high = 2.25\n",
    "system_cost = .1\n",
    "payoffs = {'VTP': 2, 'VFP': -2, 'VFN': -2, 'VTN': 2}"
   ]
  },
  {
   "cell_type": "markdown",
   "metadata": {},
   "source": [
    "## Aid Functions"
   ]
  },
  {
   "cell_type": "markdown",
   "metadata": {},
   "source": [
    "### Signal Detection Theory Equations"
   ]
  },
  {
   "cell_type": "markdown",
   "metadata": {},
   "source": [
    "##### Compute the ratio between the payoffmatrix\n",
    "$\\frac{V_{FP}-V_{TN}}{V_{FN}-V_{TP}}$"
   ]
  },
  {
   "cell_type": "code",
   "execution_count": 3,
   "metadata": {},
   "outputs": [],
   "source": [
    "def payoff_ratio(payoffs):\n",
    "    return (payoffs['VFP']-payoffs['VTN'])/(payoffs['VFN']-payoffs['VTP'])"
   ]
  },
  {
   "cell_type": "markdown",
   "metadata": {},
   "source": [
    "##### Compute optimal Beta based on Ps and Vratio\n",
    "$\\frac{1-P_{s}}{P_{s}} \\cdot \\frac{V_{FP}-V_{TN}}{V_{FN}-V_{TP}}$"
   ]
  },
  {
   "cell_type": "code",
   "execution_count": 4,
   "metadata": {},
   "outputs": [],
   "source": [
    "def beta(Ps, payoffs):\n",
    "    return ((1-Ps) / Ps) * payoff_ratio(payoffs)"
   ]
  },
  {
   "cell_type": "markdown",
   "metadata": {},
   "source": [
    "##### Compute Classification probabilities - $TPR, FPR, FNR, TNR$"
   ]
  },
  {
   "cell_type": "code",
   "execution_count": 5,
   "metadata": {},
   "outputs": [],
   "source": [
    "def outcomes(d, payoffs=payoffs, Ps=P_blue, b=0):\n",
    "    if b==0:\n",
    "        b = beta(Ps, payoffs)                           # Beta based on Eq (1)\n",
    "    c = np.log(b) / d                                   # Calculating c based on Beta and d'\n",
    "    return {\"PTP\": 1-norm.cdf(c, loc=d/2),\n",
    "            \"PFP\": 1-norm.cdf(c, loc=-d/2),\n",
    "            \"PFN\": norm.cdf(c, loc=d/2),\n",
    "            \"PTN\": norm.cdf(c, loc=-d/2)}"
   ]
  },
  {
   "cell_type": "markdown",
   "metadata": {},
   "source": [
    "##### Compute conditional probabilities - $P(S|A), P(S|NA)...$"
   ]
  },
  {
   "cell_type": "code",
   "execution_count": 6,
   "metadata": {},
   "outputs": [],
   "source": [
    "def p_cond(Ps, p):\n",
    "    Pn = 1 - Ps\n",
    "    return {\"P(S|A)\": (Ps * p[\"PTP\"]) / (Ps*p[\"PTP\"] + Pn*p[\"PFP\"]),\n",
    "            \"P(N|A)\": 1 - ((Ps * p[\"PTP\"]) / (Ps*p[\"PTP\"] + Pn*p[\"PFP\"])),\n",
    "            \"P(S|NA)\": (Ps * p[\"PFN\"]) / (Ps*p[\"PFN\"] + Pn*p[\"PTN\"]),\n",
    "            \"P(N|NA)\": 1 - ((Ps * p[\"PFN\"]) / (Ps*p[\"PFN\"] + Pn*p[\"PTN\"]))}"
   ]
  },
  {
   "cell_type": "markdown",
   "metadata": {},
   "source": [
    "##### Compute probability to raise an alarm\n",
    "$P_{A} = \\frac{P_{s}\\cdot P_{TP}^{system}}{{P_{s}\\cdot P_{TP}^{system}} + {P_{n}\\cdot P_{FP}^{system}}}$"
   ]
  },
  {
   "cell_type": "code",
   "execution_count": 7,
   "metadata": {},
   "outputs": [],
   "source": [
    "def p_alarm(Ps, p_sys):\n",
    "    Pn = 1 - Ps\n",
    "    return {'P_a':  Ps * p_sys[\"PTP\"] + Pn * p_sys[\"PFP\"],\n",
    "            'P_na': Ps * p_sys[\"PFN\"] + Pn * p_sys[\"PTN\"]}"
   ]
  },
  {
   "cell_type": "markdown",
   "metadata": {},
   "source": [
    "### Expected Value (EV)"
   ]
  },
  {
   "cell_type": "markdown",
   "metadata": {},
   "source": [
    "##### Compute Expected Value (EV) for human alone\n",
    "$EV(\\beta^{H|Stimulus}) = P_{s}\\cdot (P_{TP}\\cdot V_{TP} + P_{FN}\\cdot V_{FN}) + P_{n}\\cdot (P_{FP}\\cdot V_{FP} + P_{TN}\\cdot V_{TN})$<br>\n",
    "The human classification probabilities are computed based on the stimulus, we are not using the prior probability to signal but the probability given the stimulus"
   ]
  },
  {
   "cell_type": "code",
   "execution_count": 9,
   "metadata": {},
   "outputs": [],
   "source": [
    "def ev_h(Ps, d, payoffs = payoffs):\n",
    "    p_h = outcomes(d, payoffs=payoffs, Ps=Ps)\n",
    "    EV = \\\n",
    "        Ps     * (p_h['PTP'] * payoffs['VTP'] + p_h['PFN'] * payoffs['VFN']) + \\\n",
    "        (1-Ps) * (p_h['PFP'] * payoffs['VFP'] + p_h['PTN'] * payoffs['VTN'])\n",
    "    return EV"
   ]
  },
  {
   "cell_type": "markdown",
   "metadata": {},
   "source": [
    "##### Compute Expected Value (EV) for human and system\n",
    "$    EV(\\beta^{CDSS},\\beta_{A}^{H|Stimulus},\\beta_{\\bar{A}}^{H|Stimulus}) = \\\\\n",
    "    p_{A}\\cdot[P(S|A)\\cdot(P_{TP|A}^{H}\\cdot V_{TP} + P_{FN|A}^{H}\\cdot V_{FN})+P(N|A)\\cdot(P_{FP|A}^{H}\\cdot V_{FP} + P_{TN|A}^{H}\\cdot V_{TN})]+\\\\\n",
    "    p_{\\bar{A}}\\cdot[P(S|\\bar{A})\\cdot(P_{TP|\\bar{A}}^{H}\\cdot V_{TP} + P_{FN|\\bar{A}}^{H}\\cdot V_{FN})+                     P(N|\\bar{A})\\cdot(P_{FP|\\bar{A}}^{H}\\cdot V_{FP} + P_{TN|\\bar{A}}^{H}\\cdot V_{TN})]$\n",
    "<br>\n",
    "The human classification probabilities are computed based on the stimulus, which is different because the we are not using the prior probability to signal but the probability given the stimulus"
   ]
  },
  {
   "cell_type": "code",
   "execution_count": 10,
   "metadata": {},
   "outputs": [],
   "source": [
    "def ev_h_s(Ps, d_h, d_s, payoffs, b = 0):\n",
    "    p_sys = outcomes(d_s, payoffs, Ps=Ps, b=b)\n",
    "    p_conditional = p_cond(Ps, p_sys)\n",
    "    p_a = p_alarm(Ps, p_sys)\n",
    "    p_h_a = outcomes(d_h, payoffs, Ps=p_conditional['P(S|A)'])\n",
    "    p_h_na = outcomes(d_h, payoffs, Ps=p_conditional['P(S|NA)'])\n",
    "    \n",
    "    sum_prob = p_a['P_a'] *  (p_conditional['P(S|A)'] * (p_h_a['PTP'] + p_h_a['PFN']) +\\\n",
    "                              p_conditional['P(N|A)'] * (p_h_a['PFP'] + p_h_a['PTN'])) + \\\n",
    "               p_a['P_na'] * (p_conditional['P(S|NA)'] * (p_h_na['PTP'] + p_h_na['PFN']) + \\\n",
    "                              p_conditional['P(N|NA)'] * (p_h_na['PFP'] + p_h_na['PTN']))\n",
    "    if round(sum_prob,3) != 1:\n",
    "        print('problem')\n",
    "    EV = p_a['P_a'] *  (p_conditional['P(S|A)'] * (p_h_a['PTP'] * payoffs['VTP'] + p_h_a['PFN'] * payoffs['VFN']) + \\\n",
    "                      p_conditional['P(N|A)'] * (p_h_a['PFP'] * payoffs['VFP'] + p_h_a['PTN'] * payoffs['VTN'])) + \\\n",
    "      p_a['P_na'] * (p_conditional['P(S|NA)'] * (p_h_na['PTP'] * payoffs['VTP'] + p_h_na['PFN'] * payoffs['VFN']) + \\\n",
    "                      p_conditional['P(N|NA)'] * (p_h_na['PFP'] * payoffs['VFP'] + p_h_na['PTN'] * payoffs['VTN']))\n",
    "    return EV"
   ]
  },
  {
   "cell_type": "markdown",
   "metadata": {},
   "source": [
    "## Simulation"
   ]
  },
  {
   "cell_type": "code",
   "execution_count": 17,
   "metadata": {},
   "outputs": [],
   "source": [
    "block_trial_design = {1: 16, 2: 16, 3: 50}"
   ]
  },
  {
   "cell_type": "code",
   "execution_count": 18,
   "metadata": {},
   "outputs": [],
   "source": [
    "def Simulation(P_blue = P_blue, d_h = d_h, d_s_low = d_s_low, d_s_high = d_s_high, payoffs = payoffs):\n",
    "  \n",
    "    data = {'block': [], 'trial': [], 'event': [],\n",
    "            'stimulus_h': [], 'stimulus_s_low': [], 'stimulus_s_high': [], \n",
    "            'P(stimulus_h|Blue)': [], 'P(stimulus_s_low|Blue)': [], 'P(stimulus_s_high|Blue)': [],\n",
    "            'P(Blue|stimulus_h)': [], 'P(Blue|stimulus_s_low)': [], 'P(Blue|stimulus_s_high)': [],\n",
    "            \n",
    "            'P(stimulus_h|Orange)': [], 'P(Orange|stimulus_h)': [],\n",
    "            'P(stimulus_s_low|Orange)': [],'P(Orange|stimulus_s_low)': [],\n",
    "            'P(stimulus_s_high|Orange)': [],'P(Orange|stimulus_s_high)': [], \n",
    "            \n",
    "            'P(Human)': [],'P(Low_System_Binary)': [],'P(Low_System_Likelihood)': [],\n",
    "            'P(Low_System_Integrated)': [],\n",
    "                           'P(High_System_Binary)': [],'P(High_System_Likelihood)': [],\n",
    "            'P(High_System_Integrated)': []} \n",
    "    \n",
    "    for block_number in block_trial_design.keys():\n",
    "        blues, oranges = 0, 0\n",
    "        for trial_number in range(1,block_trial_design[block_number]+1):\n",
    "            human_stimulus = np.random.normal(0, 1)      # sample the human stimulus\n",
    "            system_stimulus = np.random.normal(0, 1)     # sample the system stimulus\n",
    "            p = np.random.uniform(0,1)                   # samlple blue or orange\n",
    "            # if it is blue, we should sample from the blue dist\n",
    "            if p < P_blue and blues < int(block_trial_design[block_number]/2):\n",
    "                blues += 1\n",
    "                human_stimulus += d_h/2                  \n",
    "                low_system_stimulus = system_stimulus + d_s_low/2\n",
    "                high_system_stimulus = system_stimulus + d_s_high/2\n",
    "                blue_or_orange = 'Blue'\n",
    "            # if it is orange, we should sample from the orange dist\n",
    "            elif p >= P_blue and oranges < int(block_trial_design[block_number]/2):\n",
    "                oranges += 1\n",
    "                human_stimulus -= d_h/2                  \n",
    "                low_system_stimulus = system_stimulus - d_s_low/2\n",
    "                high_system_stimulus = system_stimulus - d_s_high/2\n",
    "                blue_or_orange = 'Orange'\n",
    "            elif blues < int(block_trial_design[block_number]/2):\n",
    "                blues += 1\n",
    "                human_stimulus += d_h/2                  \n",
    "                low_system_stimulus = system_stimulus + d_s_low/2\n",
    "                high_system_stimulus = system_stimulus + d_s_high/2                 \n",
    "                blue_or_orange = 'Blue'\n",
    "            elif oranges < int(block_trial_design[block_number]/2):\n",
    "                oranges += 1\n",
    "                human_stimulus -= d_h/2                  \n",
    "                low_system_stimulus = system_stimulus - d_s_low/2\n",
    "                high_system_stimulus = system_stimulus - d_s_high/2\n",
    "                blue_or_orange = 'Orange'   \n",
    "            else:\n",
    "                print(problem)\n",
    "\n",
    "            ###--Human Stimulus & Probabilities--###\n",
    "            # Compute the probability of getting this stimulus in the blue distribution\n",
    "            p_stimulus_given_blue_h = norm.pdf(human_stimulus, d_h/2, 1)\n",
    "            # Compute the probability of gerrting this stimulus in the orange distribution\n",
    "            p_stimulus_given_orange_h  = norm.pdf(human_stimulus, -d_h/2, 1)\n",
    "            # Compute the probability for the event beeing blue giving the stimulus (using base)\n",
    "            p_blue_given_stimulus_h = (P_blue*p_stimulus_given_blue_h)/\\\n",
    "                                      (P_blue*p_stimulus_given_blue_h + (1-P_blue)*p_stimulus_given_orange_h)\n",
    "            p_orange_given_stimulus_h  = 1-p_blue_given_stimulus_h\n",
    "\n",
    "\n",
    "            ###--System Stimulus & Probabilities--###\n",
    "            # Compute the probability of getting this stimulus in the blue distribution\n",
    "            p_stimulus_given_blue_s_low = norm.pdf(low_system_stimulus, d_s_low/2, 1)\n",
    "            p_stimulus_given_blue_s_high = norm.pdf(high_system_stimulus, d_s_high/2, 1)\n",
    "            # Compute the probability of gerrting this stimulus in the orange distribution\n",
    "            p_stimulus_given_orange_s_low  = norm.pdf(low_system_stimulus, -d_s_low/2, 1)\n",
    "            p_stimulus_given_orange_s_high  = norm.pdf(high_system_stimulus, -d_s_high/2, 1)\n",
    "            # Compute the probability for the event beeing blue giving the stimulus\n",
    "            p_blue_given_stimulus_s_low = (P_blue*p_stimulus_given_blue_s_low)/\\\n",
    "                                      ((1-P_blue)*p_stimulus_given_orange_s_low+P_blue*p_stimulus_given_blue_s_low)\n",
    "            p_orange_given_stimulus_s_low  = 1-p_blue_given_stimulus_s_low\n",
    "            p_blue_given_stimulus_s_high = (P_blue*p_stimulus_given_blue_s_high)/\\\n",
    "                                      ((1-P_blue)*p_stimulus_given_orange_s_high+P_blue*p_stimulus_given_blue_s_high)\n",
    "            p_orange_given_stimulus_s_high  = 1-p_blue_given_stimulus_s_high\n",
    "\n",
    "            ###--Integrated Probability--###\n",
    "            p_blue_integarted_low = (p_blue_given_stimulus_h*p_stimulus_given_blue_s_low)/\\\n",
    "                                      (p_blue_given_stimulus_h*p_stimulus_given_blue_s_low+\\\n",
    "                                       p_orange_given_stimulus_h*p_stimulus_given_orange_s_low)\n",
    "            p_orange_integarted_low  = 1-p_blue_integarted_low\n",
    "            p_blue_integarted_high = (p_blue_given_stimulus_h*p_stimulus_given_blue_s_high)/\\\n",
    "                                      (p_blue_given_stimulus_h*p_stimulus_given_blue_s_high+\\\n",
    "                                       p_orange_given_stimulus_h*p_stimulus_given_orange_s_high)\n",
    "            p_orange_integarted_high  = 1-p_blue_integarted_high            \n",
    "\n",
    "            if low_system_stimulus < np.log(beta(P_blue, payoffs))/d_s_low:\n",
    "                low_system_output = 'Orange'\n",
    "            else:\n",
    "                low_system_output = 'Blue'\n",
    "            if high_system_stimulus < np.log(beta(P_blue, payoffs))/d_s_high:\n",
    "                high_system_output = 'Orange'\n",
    "            else:\n",
    "                high_system_output = 'Blue'\n",
    "        \n",
    "            ###--Add Data For System Dataframe--###\n",
    "            data['block'].append(block_number)\n",
    "            data['trial'].append(trial_number)                        \n",
    "            data['event'].append(blue_or_orange)\n",
    "            data['stimulus_h'].append(human_stimulus)\n",
    "            data['stimulus_s_low'].append(low_system_stimulus)\n",
    "            data['stimulus_s_high'].append(high_system_stimulus)\n",
    "            data['P(stimulus_h|Blue)'].append(p_stimulus_given_blue_h)\n",
    "            data['P(stimulus_s_low|Blue)'].append(p_stimulus_given_blue_s_low)\n",
    "            data['P(stimulus_s_high|Blue)'].append(p_stimulus_given_blue_s_high)\n",
    "            data['P(Blue|stimulus_h)'].append(p_blue_given_stimulus_h)\n",
    "            data['P(Blue|stimulus_s_low)'].append(p_blue_given_stimulus_s_low)\n",
    "            data['P(Blue|stimulus_s_high)'].append(p_blue_given_stimulus_s_high)\n",
    "            \n",
    "            data['P(stimulus_h|Orange)'].append(p_stimulus_given_orange_h)\n",
    "            data['P(Orange|stimulus_h)'].append(p_orange_given_stimulus_h)            \n",
    "            data['P(stimulus_s_low|Orange)'].append(p_stimulus_given_orange_s_low)\n",
    "            data['P(Orange|stimulus_s_low)'].append(p_orange_given_stimulus_s_low)                     \n",
    "            data['P(stimulus_s_high|Orange)'].append(p_stimulus_given_orange_s_high)\n",
    "            data['P(Orange|stimulus_s_high)'].append(p_orange_given_stimulus_s_high)\n",
    "            \n",
    "            data['P(Human)'].append(p_blue_given_stimulus_h)\n",
    "            data['P(Low_System_Binary)'].append(low_system_output)\n",
    "            data['P(Low_System_Likelihood)'].append(p_blue_given_stimulus_s_low)\n",
    "            data['P(Low_System_Integrated)'].append(p_blue_integarted_low)    \n",
    "            \n",
    "            data['P(High_System_Binary)'].append(high_system_output)\n",
    "            data['P(High_System_Likelihood)'].append(p_blue_given_stimulus_s_high)\n",
    "            data['P(High_System_Integrated)'].append(p_blue_integarted_high)\n",
    "                          \n",
    "    df = pd.DataFrame(list(zip(data['block'], data['trial'], data['event'], data['stimulus_h'],\n",
    "                               data['stimulus_s_low'],data['stimulus_s_high'],\n",
    "                               data['P(stimulus_h|Blue)'],\n",
    "                               data['P(stimulus_s_low|Blue)'], data['P(stimulus_s_high|Blue)'],\n",
    "                               data['P(Blue|stimulus_h)'],\n",
    "                               data['P(Blue|stimulus_s_low)'], data['P(Blue|stimulus_s_high)'],\n",
    "                               \n",
    "                               data['P(stimulus_h|Orange)'], data['P(Orange|stimulus_h)'],\n",
    "                               data['P(stimulus_s_low|Orange)'], data['P(Orange|stimulus_s_low)'],\n",
    "                               data['P(stimulus_s_high|Orange)'], data['P(Orange|stimulus_s_high)'],\n",
    "                               \n",
    "                               data['P(Human)'],\n",
    "                               data['P(Low_System_Binary)'], data['P(Low_System_Likelihood)'],\n",
    "                               data['P(Low_System_Integrated)'],\n",
    "                               data['P(High_System_Binary)'], data['P(High_System_Likelihood)'],\n",
    "                               data['P(High_System_Integrated)'])),\n",
    "                        columns = data.keys())\n",
    "    \n",
    "    if round(df['P(Human)'].mean(),1) != P_blue:\n",
    "        print('---------------Problem---------------')\n",
    "        df = Simulation()\n",
    "    return df"
   ]
  },
  {
   "cell_type": "code",
   "execution_count": 19,
   "metadata": {},
   "outputs": [],
   "source": [
    "def confusion_matrix(df, d):\n",
    "    tp = df[(df[f'P({d}System_Binary)']=='Blue')&(df['event']=='Blue')].shape[0]\n",
    "    tn = df[(df[f'P({d}System_Binary)']=='Orange')&(df['event']=='Orange')].shape[0]\n",
    "    fp = df[(df[f'P({d}System_Binary)']=='Blue')&(df['event']=='Orange')].shape[0]\n",
    "    fn = df[(df[f'P({d}System_Binary)']=='Orange')&(df['event']=='Blue')].shape[0]\n",
    "    tpr = round(tp/(tp+fn), 2)\n",
    "    fnr = round(fn/(tp+fn), 2)\n",
    "    fpr = round(fp/(fp+tn), 2)\n",
    "    tnr = round(tn/(fp+tn), 2)\n",
    "    return tpr, tnr, fpr, fnr"
   ]
  },
  {
   "cell_type": "code",
   "execution_count": 20,
   "metadata": {},
   "outputs": [],
   "source": [
    "def main(P_blue = P_blue, d_h = d_h, d_s_low = d_s_low, d_s_high = d_s_high, payoffs = payoffs):\n",
    "    stop = False\n",
    "    index = 0\n",
    "    cause = 0\n",
    "    while not stop:\n",
    "        clear_output(wait=True)\n",
    "        print(index, cause)\n",
    "        index += 1\n",
    "        df = Simulation()\n",
    "        tpr_low, tnr_low, fpr_low, fnr_low = confusion_matrix(df, 'Low_')\n",
    "        tpr_high, tnr_high, fpr_high, fnr_high = confusion_matrix(df, 'High_')\n",
    "        mean_accuracy_low = round(np.mean([tpr_low, tnr_low]),2)\n",
    "        mean_accuracy_high = round(np.mean([tpr_high, tnr_high]),2)\n",
    "        std_accuracy_low = round(np.std([tpr_low, tnr_low]),2)\n",
    "        std_accuracy_high = round(np.std([tpr_high, tnr_high]),2)\n",
    "        if df[(df['block'] == 1) & (df['event'] == 'Blue')].shape[0] != int(block_trial_design[1]/2):\n",
    "            cause = 1\n",
    "            continue\n",
    "        if df[(df['block'] == 2) & (df['event'] == 'Blue')].shape[0] != int(block_trial_design[2]/2):\n",
    "            cause = 2\n",
    "            continue            \n",
    "        if df[(df['block'] == 3) & (df['event'] == 'Blue')].shape[0] != int(block_trial_design[3]/2):\n",
    "            cause = 3\n",
    "            continue                           \n",
    "        #tpr_low + tnr_low tpr_low != .65 or tnr_low != .65:\n",
    "        if (mean_accuracy_low > .66 or mean_accuracy_low < .64) or std_accuracy_low > .01:\n",
    "            cause = f\"5: TNR={tnr_low}, TPR={tpr_low}, M={mean_accuracy_low}, SD={std_accuracy_low}\"\n",
    "            continue   \n",
    "        #tpr_high != .87 or tnr_high != .87:\n",
    "        if (mean_accuracy_high > .88 or mean_accuracy_high < .86) or std_accuracy_high > .01:\n",
    "            cause = f\"6: TNR={tnr_high}, TPR={tpr_high}, M={mean_accuracy_high}, SD={std_accuracy_high}\"\n",
    "            continue               \n",
    "        stop = True\n",
    "    clear_output(wait=True)\n",
    "    signals = df[(df['event'] == 'Blue')].shape[0]\n",
    "    print(index)\n",
    "    print(f\"Blue events: {df[(df['event']=='Blue')].shape[0]}, Orange events: {df[(df['event']=='Orange')].shape[0]}\")\n",
    "    print(f\"Low --> TPR: {tpr_low}; FPR: {fpr_low}; FNR: {fnr_low}; TNR: {tnr_low}\")\n",
    "    print(f\"High --> TPR: {tpr_high}; FPR: {fpr_high}; FNR: {fnr_high}; TNR: {tnr_high}\")\n",
    "    return df"
   ]
  },
  {
   "cell_type": "markdown",
   "metadata": {},
   "source": [
    "$$P(Signal|Stimulus)=\\frac{P(Stimulus|Signal)\\cdot{P(S)}}{P(Stimulus|Signal)\\cdot{P(S)} + P(Stimulus|Noise)\\cdot{P(N)}}$$"
   ]
  }
 ],
 "metadata": {
  "kernelspec": {
   "display_name": "Python 3 (ipykernel)",
   "language": "python",
   "name": "python3"
  },
  "language_info": {
   "codemirror_mode": {
    "name": "ipython",
    "version": 3
   },
   "file_extension": ".py",
   "mimetype": "text/x-python",
   "name": "python",
   "nbconvert_exporter": "python",
   "pygments_lexer": "ipython3",
   "version": "3.9.13"
  }
 },
 "nbformat": 4,
 "nbformat_minor": 2
}
